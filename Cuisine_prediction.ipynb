{
 "cells": [
  {
   "cell_type": "code",
   "execution_count": 1,
   "metadata": {
    "id": "h_DIgGvf-iYf"
   },
   "outputs": [],
   "source": [
    "import pandas as pd\n",
    "import numpy as np\n",
    "import zipfile as zf\n",
    "from matplotlib import pyplot as plt"
   ]
  },
  {
   "cell_type": "code",
   "execution_count": 3,
   "metadata": {
    "colab": {
     "base_uri": "https://localhost:8080/"
    },
    "id": "fLzTOU7FqEWd",
    "outputId": "40689c72-ad4d-4f2c-c7f9-7aa1e835393e"
   },
   "outputs": [
    {
     "name": "stdout",
     "output_type": "stream",
     "text": [
      "arn:aws:iam::264325520404:role/service-role/AmazonSageMaker-ExecutionRole-20220512T142894\n"
     ]
    }
   ],
   "source": [
    "from sagemaker import get_execution_role\n",
    "\n",
    "bucket_name = 'sagemaker-project'\n",
    "\n",
    "role = get_execution_role()\n",
    "bucket_key_prefix = 'cuisine-prediction'\n",
    "vocabulary_length = 9013\n",
    "\n",
    "print(role)"
   ]
  },
  {
   "cell_type": "code",
   "execution_count": null,
   "metadata": {
    "id": "dwUQQl6-ppw2"
   },
   "outputs": [],
   "source": [
    "import boto3\n",
    "\n",
    "s3 = boto3.resource('s3')\n",
    "target_bucket = s3.Bucket(bucket_name)\n",
    "\n",
    "output_path = 's3://{0}/{1}/output'.format(bucket_name, bucket_key_prefix)\n",
    "code_location = 's3://{0}/{1}/code'.format(bucket_name, bucket_key_prefix)"
   ]
  },
  {
   "cell_type": "code",
   "execution_count": null,
   "metadata": {},
   "outputs": [],
   "source": [
    "test_data = pd.read_csv('s3://{0}/'.format(bucket_name,\"test_data.csv\")"
   ]
  },
  {
   "cell_type": "code",
   "execution_count": null,
   "metadata": {
    "id": "8GVYiZIysMLl"
   },
   "outputs": [],
   "source": [
    "test_data.drop(\"cuisine\",inplace=True,axis=1)"
   ]
  },
  {
   "cell_type": "code",
   "execution_count": null,
   "metadata": {
    "id": "3HIK2uTx-kKq"
   },
   "outputs": [],
   "source": [
    "train_data = pd.read_csv('s3://{0}/'.format(bucket_name,\"train_data.csv\")"
   ]
  },
  {
   "cell_type": "code",
   "execution_count": null,
   "metadata": {
    "colab": {
     "base_uri": "https://localhost:8080/",
     "height": 540
    },
    "id": "KG5wMTQ1-xop",
    "outputId": "3e298e88-3363-46de-e797-0de2c63251a4"
   },
   "outputs": [
    {
     "data": {
      "text/html": [
       "\n",
       "  <div id=\"df-9648040b-8fa8-4170-a692-d9f2989c9576\">\n",
       "    <div class=\"colab-df-container\">\n",
       "      <div>\n",
       "<style scoped>\n",
       "    .dataframe tbody tr th:only-of-type {\n",
       "        vertical-align: middle;\n",
       "    }\n",
       "\n",
       "    .dataframe tbody tr th {\n",
       "        vertical-align: top;\n",
       "    }\n",
       "\n",
       "    .dataframe thead th {\n",
       "        text-align: right;\n",
       "    }\n",
       "</style>\n",
       "<table border=\"1\" class=\"dataframe\">\n",
       "  <thead>\n",
       "    <tr style=\"text-align: right;\">\n",
       "      <th></th>\n",
       "      <th>recipe_id</th>\n",
       "      <th>cuisine</th>\n",
       "      <th>(    oz.) tomato sauce</th>\n",
       "      <th>(14.5 oz.) diced tomatoes</th>\n",
       "      <th>1% low-fat buttermilk</th>\n",
       "      <th>1% low-fat cottage cheese</th>\n",
       "      <th>1% low-fat milk</th>\n",
       "      <th>2% low-fat cottage cheese</th>\n",
       "      <th>2% lowfat greek yogurt</th>\n",
       "      <th>2% reduced-fat milk</th>\n",
       "      <th>...</th>\n",
       "      <th>yucca root</th>\n",
       "      <th>yukon gold</th>\n",
       "      <th>yukon gold potatoes</th>\n",
       "      <th>yuzu</th>\n",
       "      <th>za'atar</th>\n",
       "      <th>zest</th>\n",
       "      <th>zesty italian dressing</th>\n",
       "      <th>zinfandel</th>\n",
       "      <th>ziti</th>\n",
       "      <th>zucchini</th>\n",
       "    </tr>\n",
       "  </thead>\n",
       "  <tbody>\n",
       "    <tr>\n",
       "      <th>0</th>\n",
       "      <td>0</td>\n",
       "      <td>spanish</td>\n",
       "      <td>0.0</td>\n",
       "      <td>0.0</td>\n",
       "      <td>0.0</td>\n",
       "      <td>0.0</td>\n",
       "      <td>0.0</td>\n",
       "      <td>0.0</td>\n",
       "      <td>0.0</td>\n",
       "      <td>0.0</td>\n",
       "      <td>...</td>\n",
       "      <td>0.0</td>\n",
       "      <td>0.0</td>\n",
       "      <td>0.0</td>\n",
       "      <td>0.0</td>\n",
       "      <td>0.0</td>\n",
       "      <td>0.0</td>\n",
       "      <td>0.0</td>\n",
       "      <td>0.0</td>\n",
       "      <td>0.0</td>\n",
       "      <td>0.0</td>\n",
       "    </tr>\n",
       "    <tr>\n",
       "      <th>1</th>\n",
       "      <td>1</td>\n",
       "      <td>mexican</td>\n",
       "      <td>0.0</td>\n",
       "      <td>0.0</td>\n",
       "      <td>0.0</td>\n",
       "      <td>0.0</td>\n",
       "      <td>0.0</td>\n",
       "      <td>0.0</td>\n",
       "      <td>0.0</td>\n",
       "      <td>0.0</td>\n",
       "      <td>...</td>\n",
       "      <td>0.0</td>\n",
       "      <td>0.0</td>\n",
       "      <td>0.0</td>\n",
       "      <td>0.0</td>\n",
       "      <td>0.0</td>\n",
       "      <td>0.0</td>\n",
       "      <td>0.0</td>\n",
       "      <td>0.0</td>\n",
       "      <td>0.0</td>\n",
       "      <td>0.0</td>\n",
       "    </tr>\n",
       "    <tr>\n",
       "      <th>2</th>\n",
       "      <td>2</td>\n",
       "      <td>french</td>\n",
       "      <td>0.0</td>\n",
       "      <td>0.0</td>\n",
       "      <td>0.0</td>\n",
       "      <td>0.0</td>\n",
       "      <td>0.0</td>\n",
       "      <td>0.0</td>\n",
       "      <td>0.0</td>\n",
       "      <td>0.0</td>\n",
       "      <td>...</td>\n",
       "      <td>0.0</td>\n",
       "      <td>0.0</td>\n",
       "      <td>0.0</td>\n",
       "      <td>0.0</td>\n",
       "      <td>0.0</td>\n",
       "      <td>0.0</td>\n",
       "      <td>0.0</td>\n",
       "      <td>0.0</td>\n",
       "      <td>0.0</td>\n",
       "      <td>0.0</td>\n",
       "    </tr>\n",
       "    <tr>\n",
       "      <th>3</th>\n",
       "      <td>3</td>\n",
       "      <td>chinese</td>\n",
       "      <td>0.0</td>\n",
       "      <td>0.0</td>\n",
       "      <td>0.0</td>\n",
       "      <td>0.0</td>\n",
       "      <td>0.0</td>\n",
       "      <td>0.0</td>\n",
       "      <td>0.0</td>\n",
       "      <td>0.0</td>\n",
       "      <td>...</td>\n",
       "      <td>0.0</td>\n",
       "      <td>0.0</td>\n",
       "      <td>0.0</td>\n",
       "      <td>0.0</td>\n",
       "      <td>0.0</td>\n",
       "      <td>0.0</td>\n",
       "      <td>0.0</td>\n",
       "      <td>0.0</td>\n",
       "      <td>0.0</td>\n",
       "      <td>0.0</td>\n",
       "    </tr>\n",
       "    <tr>\n",
       "      <th>4</th>\n",
       "      <td>4</td>\n",
       "      <td>italian</td>\n",
       "      <td>0.0</td>\n",
       "      <td>0.0</td>\n",
       "      <td>0.0</td>\n",
       "      <td>0.0</td>\n",
       "      <td>0.0</td>\n",
       "      <td>0.0</td>\n",
       "      <td>0.0</td>\n",
       "      <td>0.0</td>\n",
       "      <td>...</td>\n",
       "      <td>0.0</td>\n",
       "      <td>0.0</td>\n",
       "      <td>0.0</td>\n",
       "      <td>0.0</td>\n",
       "      <td>0.0</td>\n",
       "      <td>0.0</td>\n",
       "      <td>0.0</td>\n",
       "      <td>0.0</td>\n",
       "      <td>0.0</td>\n",
       "      <td>0.0</td>\n",
       "    </tr>\n",
       "    <tr>\n",
       "      <th>...</th>\n",
       "      <td>...</td>\n",
       "      <td>...</td>\n",
       "      <td>...</td>\n",
       "      <td>...</td>\n",
       "      <td>...</td>\n",
       "      <td>...</td>\n",
       "      <td>...</td>\n",
       "      <td>...</td>\n",
       "      <td>...</td>\n",
       "      <td>...</td>\n",
       "      <td>...</td>\n",
       "      <td>...</td>\n",
       "      <td>...</td>\n",
       "      <td>...</td>\n",
       "      <td>...</td>\n",
       "      <td>...</td>\n",
       "      <td>...</td>\n",
       "      <td>...</td>\n",
       "      <td>...</td>\n",
       "      <td>...</td>\n",
       "      <td>...</td>\n",
       "    </tr>\n",
       "    <tr>\n",
       "      <th>39766</th>\n",
       "      <td>49712</td>\n",
       "      <td>indian</td>\n",
       "      <td>0.0</td>\n",
       "      <td>0.0</td>\n",
       "      <td>0.0</td>\n",
       "      <td>0.0</td>\n",
       "      <td>0.0</td>\n",
       "      <td>0.0</td>\n",
       "      <td>0.0</td>\n",
       "      <td>0.0</td>\n",
       "      <td>...</td>\n",
       "      <td>0.0</td>\n",
       "      <td>0.0</td>\n",
       "      <td>0.0</td>\n",
       "      <td>0.0</td>\n",
       "      <td>0.0</td>\n",
       "      <td>0.0</td>\n",
       "      <td>0.0</td>\n",
       "      <td>0.0</td>\n",
       "      <td>0.0</td>\n",
       "      <td>0.0</td>\n",
       "    </tr>\n",
       "    <tr>\n",
       "      <th>39767</th>\n",
       "      <td>49713</td>\n",
       "      <td>southern_us</td>\n",
       "      <td>0.0</td>\n",
       "      <td>0.0</td>\n",
       "      <td>0.0</td>\n",
       "      <td>0.0</td>\n",
       "      <td>0.0</td>\n",
       "      <td>0.0</td>\n",
       "      <td>0.0</td>\n",
       "      <td>0.0</td>\n",
       "      <td>...</td>\n",
       "      <td>0.0</td>\n",
       "      <td>0.0</td>\n",
       "      <td>0.0</td>\n",
       "      <td>0.0</td>\n",
       "      <td>0.0</td>\n",
       "      <td>0.0</td>\n",
       "      <td>0.0</td>\n",
       "      <td>0.0</td>\n",
       "      <td>0.0</td>\n",
       "      <td>0.0</td>\n",
       "    </tr>\n",
       "    <tr>\n",
       "      <th>39768</th>\n",
       "      <td>49714</td>\n",
       "      <td>irish</td>\n",
       "      <td>0.0</td>\n",
       "      <td>0.0</td>\n",
       "      <td>0.0</td>\n",
       "      <td>0.0</td>\n",
       "      <td>0.0</td>\n",
       "      <td>0.0</td>\n",
       "      <td>0.0</td>\n",
       "      <td>0.0</td>\n",
       "      <td>...</td>\n",
       "      <td>0.0</td>\n",
       "      <td>0.0</td>\n",
       "      <td>0.0</td>\n",
       "      <td>0.0</td>\n",
       "      <td>0.0</td>\n",
       "      <td>0.0</td>\n",
       "      <td>0.0</td>\n",
       "      <td>0.0</td>\n",
       "      <td>0.0</td>\n",
       "      <td>0.0</td>\n",
       "    </tr>\n",
       "    <tr>\n",
       "      <th>39769</th>\n",
       "      <td>49716</td>\n",
       "      <td>indian</td>\n",
       "      <td>0.0</td>\n",
       "      <td>0.0</td>\n",
       "      <td>0.0</td>\n",
       "      <td>0.0</td>\n",
       "      <td>0.0</td>\n",
       "      <td>0.0</td>\n",
       "      <td>0.0</td>\n",
       "      <td>0.0</td>\n",
       "      <td>...</td>\n",
       "      <td>0.0</td>\n",
       "      <td>0.0</td>\n",
       "      <td>0.0</td>\n",
       "      <td>0.0</td>\n",
       "      <td>0.0</td>\n",
       "      <td>0.0</td>\n",
       "      <td>0.0</td>\n",
       "      <td>0.0</td>\n",
       "      <td>0.0</td>\n",
       "      <td>0.0</td>\n",
       "    </tr>\n",
       "    <tr>\n",
       "      <th>39770</th>\n",
       "      <td>49717</td>\n",
       "      <td>mexican</td>\n",
       "      <td>0.0</td>\n",
       "      <td>0.0</td>\n",
       "      <td>0.0</td>\n",
       "      <td>0.0</td>\n",
       "      <td>0.0</td>\n",
       "      <td>0.0</td>\n",
       "      <td>0.0</td>\n",
       "      <td>0.0</td>\n",
       "      <td>...</td>\n",
       "      <td>0.0</td>\n",
       "      <td>0.0</td>\n",
       "      <td>0.0</td>\n",
       "      <td>0.0</td>\n",
       "      <td>0.0</td>\n",
       "      <td>0.0</td>\n",
       "      <td>0.0</td>\n",
       "      <td>0.0</td>\n",
       "      <td>0.0</td>\n",
       "      <td>0.0</td>\n",
       "    </tr>\n",
       "  </tbody>\n",
       "</table>\n",
       "<p>39771 rows × 4294 columns</p>\n",
       "</div>\n",
       "      <button class=\"colab-df-convert\" onclick=\"convertToInteractive('df-9648040b-8fa8-4170-a692-d9f2989c9576')\"\n",
       "              title=\"Convert this dataframe to an interactive table.\"\n",
       "              style=\"display:none;\">\n",
       "        \n",
       "  <svg xmlns=\"http://www.w3.org/2000/svg\" height=\"24px\"viewBox=\"0 0 24 24\"\n",
       "       width=\"24px\">\n",
       "    <path d=\"M0 0h24v24H0V0z\" fill=\"none\"/>\n",
       "    <path d=\"M18.56 5.44l.94 2.06.94-2.06 2.06-.94-2.06-.94-.94-2.06-.94 2.06-2.06.94zm-11 1L8.5 8.5l.94-2.06 2.06-.94-2.06-.94L8.5 2.5l-.94 2.06-2.06.94zm10 10l.94 2.06.94-2.06 2.06-.94-2.06-.94-.94-2.06-.94 2.06-2.06.94z\"/><path d=\"M17.41 7.96l-1.37-1.37c-.4-.4-.92-.59-1.43-.59-.52 0-1.04.2-1.43.59L10.3 9.45l-7.72 7.72c-.78.78-.78 2.05 0 2.83L4 21.41c.39.39.9.59 1.41.59.51 0 1.02-.2 1.41-.59l7.78-7.78 2.81-2.81c.8-.78.8-2.07 0-2.86zM5.41 20L4 18.59l7.72-7.72 1.47 1.35L5.41 20z\"/>\n",
       "  </svg>\n",
       "      </button>\n",
       "      \n",
       "  <style>\n",
       "    .colab-df-container {\n",
       "      display:flex;\n",
       "      flex-wrap:wrap;\n",
       "      gap: 12px;\n",
       "    }\n",
       "\n",
       "    .colab-df-convert {\n",
       "      background-color: #E8F0FE;\n",
       "      border: none;\n",
       "      border-radius: 50%;\n",
       "      cursor: pointer;\n",
       "      display: none;\n",
       "      fill: #1967D2;\n",
       "      height: 32px;\n",
       "      padding: 0 0 0 0;\n",
       "      width: 32px;\n",
       "    }\n",
       "\n",
       "    .colab-df-convert:hover {\n",
       "      background-color: #E2EBFA;\n",
       "      box-shadow: 0px 1px 2px rgba(60, 64, 67, 0.3), 0px 1px 3px 1px rgba(60, 64, 67, 0.15);\n",
       "      fill: #174EA6;\n",
       "    }\n",
       "\n",
       "    [theme=dark] .colab-df-convert {\n",
       "      background-color: #3B4455;\n",
       "      fill: #D2E3FC;\n",
       "    }\n",
       "\n",
       "    [theme=dark] .colab-df-convert:hover {\n",
       "      background-color: #434B5C;\n",
       "      box-shadow: 0px 1px 3px 1px rgba(0, 0, 0, 0.15);\n",
       "      filter: drop-shadow(0px 1px 2px rgba(0, 0, 0, 0.3));\n",
       "      fill: #FFFFFF;\n",
       "    }\n",
       "  </style>\n",
       "\n",
       "      <script>\n",
       "        const buttonEl =\n",
       "          document.querySelector('#df-9648040b-8fa8-4170-a692-d9f2989c9576 button.colab-df-convert');\n",
       "        buttonEl.style.display =\n",
       "          google.colab.kernel.accessAllowed ? 'block' : 'none';\n",
       "\n",
       "        async function convertToInteractive(key) {\n",
       "          const element = document.querySelector('#df-9648040b-8fa8-4170-a692-d9f2989c9576');\n",
       "          const dataTable =\n",
       "            await google.colab.kernel.invokeFunction('convertToInteractive',\n",
       "                                                     [key], {});\n",
       "          if (!dataTable) return;\n",
       "\n",
       "          const docLinkHtml = 'Like what you see? Visit the ' +\n",
       "            '<a target=\"_blank\" href=https://colab.research.google.com/notebooks/data_table.ipynb>data table notebook</a>'\n",
       "            + ' to learn more about interactive tables.';\n",
       "          element.innerHTML = '';\n",
       "          dataTable['output_type'] = 'display_data';\n",
       "          await google.colab.output.renderOutput(dataTable, element);\n",
       "          const docLink = document.createElement('div');\n",
       "          docLink.innerHTML = docLinkHtml;\n",
       "          element.appendChild(docLink);\n",
       "        }\n",
       "      </script>\n",
       "    </div>\n",
       "  </div>\n",
       "  "
      ],
      "text/plain": [
       "       recipe_id      cuisine  (    oz.) tomato sauce  \\\n",
       "0              0      spanish                     0.0   \n",
       "1              1      mexican                     0.0   \n",
       "2              2       french                     0.0   \n",
       "3              3      chinese                     0.0   \n",
       "4              4      italian                     0.0   \n",
       "...          ...          ...                     ...   \n",
       "39766      49712       indian                     0.0   \n",
       "39767      49713  southern_us                     0.0   \n",
       "39768      49714        irish                     0.0   \n",
       "39769      49716       indian                     0.0   \n",
       "39770      49717      mexican                     0.0   \n",
       "\n",
       "       (14.5 oz.) diced tomatoes  1% low-fat buttermilk  \\\n",
       "0                            0.0                    0.0   \n",
       "1                            0.0                    0.0   \n",
       "2                            0.0                    0.0   \n",
       "3                            0.0                    0.0   \n",
       "4                            0.0                    0.0   \n",
       "...                          ...                    ...   \n",
       "39766                        0.0                    0.0   \n",
       "39767                        0.0                    0.0   \n",
       "39768                        0.0                    0.0   \n",
       "39769                        0.0                    0.0   \n",
       "39770                        0.0                    0.0   \n",
       "\n",
       "       1% low-fat cottage cheese  1% low-fat milk  2% low-fat cottage cheese  \\\n",
       "0                            0.0              0.0                        0.0   \n",
       "1                            0.0              0.0                        0.0   \n",
       "2                            0.0              0.0                        0.0   \n",
       "3                            0.0              0.0                        0.0   \n",
       "4                            0.0              0.0                        0.0   \n",
       "...                          ...              ...                        ...   \n",
       "39766                        0.0              0.0                        0.0   \n",
       "39767                        0.0              0.0                        0.0   \n",
       "39768                        0.0              0.0                        0.0   \n",
       "39769                        0.0              0.0                        0.0   \n",
       "39770                        0.0              0.0                        0.0   \n",
       "\n",
       "       2% lowfat greek yogurt  2% reduced-fat milk  ...  yucca root  \\\n",
       "0                         0.0                  0.0  ...         0.0   \n",
       "1                         0.0                  0.0  ...         0.0   \n",
       "2                         0.0                  0.0  ...         0.0   \n",
       "3                         0.0                  0.0  ...         0.0   \n",
       "4                         0.0                  0.0  ...         0.0   \n",
       "...                       ...                  ...  ...         ...   \n",
       "39766                     0.0                  0.0  ...         0.0   \n",
       "39767                     0.0                  0.0  ...         0.0   \n",
       "39768                     0.0                  0.0  ...         0.0   \n",
       "39769                     0.0                  0.0  ...         0.0   \n",
       "39770                     0.0                  0.0  ...         0.0   \n",
       "\n",
       "       yukon gold  yukon gold potatoes  yuzu  za'atar  zest  \\\n",
       "0             0.0                  0.0   0.0      0.0   0.0   \n",
       "1             0.0                  0.0   0.0      0.0   0.0   \n",
       "2             0.0                  0.0   0.0      0.0   0.0   \n",
       "3             0.0                  0.0   0.0      0.0   0.0   \n",
       "4             0.0                  0.0   0.0      0.0   0.0   \n",
       "...           ...                  ...   ...      ...   ...   \n",
       "39766         0.0                  0.0   0.0      0.0   0.0   \n",
       "39767         0.0                  0.0   0.0      0.0   0.0   \n",
       "39768         0.0                  0.0   0.0      0.0   0.0   \n",
       "39769         0.0                  0.0   0.0      0.0   0.0   \n",
       "39770         0.0                  0.0   0.0      0.0   0.0   \n",
       "\n",
       "       zesty italian dressing  zinfandel  ziti  zucchini  \n",
       "0                         0.0        0.0   0.0       0.0  \n",
       "1                         0.0        0.0   0.0       0.0  \n",
       "2                         0.0        0.0   0.0       0.0  \n",
       "3                         0.0        0.0   0.0       0.0  \n",
       "4                         0.0        0.0   0.0       0.0  \n",
       "...                       ...        ...   ...       ...  \n",
       "39766                     0.0        0.0   0.0       0.0  \n",
       "39767                     0.0        0.0   0.0       0.0  \n",
       "39768                     0.0        0.0   0.0       0.0  \n",
       "39769                     0.0        0.0   0.0       0.0  \n",
       "39770                     0.0        0.0   0.0       0.0  \n",
       "\n",
       "[39771 rows x 4294 columns]"
      ]
     },
     "execution_count": 5,
     "metadata": {},
     "output_type": "execute_result"
    }
   ],
   "source": [
    "train_data"
   ]
  },
  {
   "cell_type": "code",
   "execution_count": null,
   "metadata": {
    "id": "uGeyiHyO-y4L"
   },
   "outputs": [],
   "source": [
    "train_data = train_data.reset_index()\n",
    "train_data = train_data.fillna(0)"
   ]
  },
  {
   "cell_type": "code",
   "execution_count": null,
   "metadata": {
    "colab": {
     "base_uri": "https://localhost:8080/"
    },
    "id": "Apy0sawatint",
    "outputId": "cd866dd9-28a0-4359-800b-ea59baf7e9de"
   },
   "outputs": [
    {
     "data": {
      "text/plain": [
       "Index(['index', 'recipe_id', 'cuisine', '(    oz.) tomato sauce',\n",
       "       '(14.5 oz.) diced tomatoes', '1% low-fat buttermilk',\n",
       "       '1% low-fat cottage cheese', '1% low-fat milk',\n",
       "       '2% low-fat cottage cheese', '2% lowfat greek yogurt',\n",
       "       ...\n",
       "       'yucca root', 'yukon gold', 'yukon gold potatoes', 'yuzu', 'za'atar',\n",
       "       'zest', 'zesty italian dressing', 'zinfandel', 'ziti', 'zucchini'],\n",
       "      dtype='object', length=4295)"
      ]
     },
     "execution_count": 7,
     "metadata": {},
     "output_type": "execute_result"
    }
   ],
   "source": [
    "train_data.columns"
   ]
  },
  {
   "cell_type": "code",
   "execution_count": null,
   "metadata": {
    "colab": {
     "base_uri": "https://localhost:8080/"
    },
    "id": "JiOWnkbw-0d_",
    "outputId": "21644de3-9e16-473a-a7a0-4d7783a0a6a1"
   },
   "outputs": [
    {
     "data": {
      "text/plain": [
       "array([[0., 0., 0., ..., 0., 0., 0.],\n",
       "       [0., 0., 0., ..., 0., 0., 0.],\n",
       "       [0., 0., 0., ..., 0., 0., 0.],\n",
       "       ...,\n",
       "       [0., 0., 0., ..., 0., 0., 0.],\n",
       "       [0., 0., 0., ..., 0., 0., 0.],\n",
       "       [0., 0., 0., ..., 0., 0., 0.]])"
      ]
     },
     "execution_count": 8,
     "metadata": {},
     "output_type": "execute_result"
    }
   ],
   "source": [
    "train_X = train_data.drop(['index','cuisine','recipe_id'], axis=1).values\n",
    "train_X"
   ]
  },
  {
   "cell_type": "code",
   "execution_count": null,
   "metadata": {
    "colab": {
     "base_uri": "https://localhost:8080/"
    },
    "id": "HoUNADNw-2rj",
    "outputId": "2693a029-e9f8-40de-c655-c3e35f9691c7"
   },
   "outputs": [
    {
     "data": {
      "text/plain": [
       "(39771, 4292)"
      ]
     },
     "execution_count": 9,
     "metadata": {},
     "output_type": "execute_result"
    }
   ],
   "source": [
    "train_X.shape"
   ]
  },
  {
   "cell_type": "code",
   "execution_count": null,
   "metadata": {
    "colab": {
     "base_uri": "https://localhost:8080/"
    },
    "id": "rpLmnxBG--Oe",
    "outputId": "15903e66-7d09-48cb-bf6a-123de6bae082"
   },
   "outputs": [
    {
     "data": {
      "text/plain": [
       "array([ 5,  7, 14, ..., 16,  3,  7])"
      ]
     },
     "execution_count": 10,
     "metadata": {},
     "output_type": "execute_result"
    }
   ],
   "source": [
    "train_data['cuisine'] = train_data['cuisine'].map(\n",
    "    { \n",
    "        'greek':0, \n",
    "        'southern_us':1, \n",
    "        'filipino':2, \n",
    "        'indian':3, \n",
    "        'jamaican':4,\n",
    "        'spanish':5, \n",
    "        'italian':6, \n",
    "        'mexican':7, \n",
    "        'chinese':8, \n",
    "        'british':9, \n",
    "        'thai':10,\n",
    "        'vietnamese':11, \n",
    "        'cajun_creole':12, \n",
    "        'brazilian':13, \n",
    "        'french':14, \n",
    "        'japanese':15,\n",
    "        'irish':16, \n",
    "        'korean':17, \n",
    "        'moroccan':18, \n",
    "        'russian':19\n",
    "    }\n",
    ")\n",
    "\n",
    "train_Y = train_data['cuisine'].values\n",
    "train_Y"
   ]
  },
  {
   "cell_type": "code",
   "execution_count": null,
   "metadata": {
    "colab": {
     "base_uri": "https://localhost:8080/"
    },
    "id": "HwVu06NS_EfL",
    "outputId": "1dead63b-c6ba-4ccd-e88e-e9b9ce03dcc7"
   },
   "outputs": [
    {
     "name": "stdout",
     "output_type": "stream",
     "text": [
      "Epoch 1/10\n",
      "1119/1119 [==============================] - 10s 7ms/step - loss: 0.9478 - accuracy: 0.7246 - val_loss: 0.7428 - val_accuracy: 0.7861\n",
      "Epoch 2/10\n",
      "1119/1119 [==============================] - 7s 6ms/step - loss: 0.4824 - accuracy: 0.8513 - val_loss: 0.7476 - val_accuracy: 0.7841\n",
      "Epoch 3/10\n",
      "1119/1119 [==============================] - 7s 6ms/step - loss: 0.2598 - accuracy: 0.9180 - val_loss: 0.8345 - val_accuracy: 0.7891\n",
      "Epoch 4/10\n",
      "1119/1119 [==============================] - 6s 6ms/step - loss: 0.1200 - accuracy: 0.9629 - val_loss: 0.9927 - val_accuracy: 0.7831\n",
      "Epoch 5/10\n",
      "1119/1119 [==============================] - 7s 6ms/step - loss: 0.0559 - accuracy: 0.9835 - val_loss: 1.1969 - val_accuracy: 0.7818\n",
      "Epoch 6/10\n",
      "1119/1119 [==============================] - 6s 6ms/step - loss: 0.0356 - accuracy: 0.9898 - val_loss: 1.3357 - val_accuracy: 0.7831\n",
      "Epoch 7/10\n",
      "1119/1119 [==============================] - 7s 6ms/step - loss: 0.0257 - accuracy: 0.9929 - val_loss: 1.5128 - val_accuracy: 0.7853\n",
      "Epoch 8/10\n",
      "1119/1119 [==============================] - 7s 6ms/step - loss: 0.0217 - accuracy: 0.9938 - val_loss: 1.7068 - val_accuracy: 0.7750\n",
      "Epoch 9/10\n",
      "1119/1119 [==============================] - 7s 6ms/step - loss: 0.0249 - accuracy: 0.9929 - val_loss: 1.6693 - val_accuracy: 0.7848\n",
      "Epoch 10/10\n",
      "1119/1119 [==============================] - 7s 6ms/step - loss: 0.0166 - accuracy: 0.9953 - val_loss: 1.7728 - val_accuracy: 0.7795\n"
     ]
    }
   ],
   "source": [
    "import tensorflow.keras as tf\n",
    "\n",
    "model = tf.models.Sequential()\n",
    "\n",
    "\n",
    "model.add(tf.layers.Dense(768, activation='relu'))\n",
    "#model.add(tf.layers.Dropout(0.5))\n",
    "\n",
    "#model.add(tf.layers.Dense(2048, activation='relu'))\n",
    "#model.add(tf.layers.Dropout(0.5))\n",
    "#model.add(tf.layers.Dense(256, activation='relu'))\n",
    "#model.add(tf.layers.Dense(512, activation='relu'))\n",
    "#model.add(tf.layers.Dropout(0.5))\n",
    "#model.add(tf.layers.Dense(1024, activation='relu'))\n",
    "\n",
    "model.add(tf.layers.Dense(256, activation='relu'))\n",
    "#model.add(tf.layers.BatchNormalization())\n",
    "#model.add(tf.layers.Dropout(0.5))\n",
    "\n",
    "\n",
    "model.add(tf.layers.Dense(20, activation='softmax'))\n",
    "model.compile(optimizer='adam'\n",
    "              ,loss='sparse_categorical_crossentropy'\n",
    "              ,metrics=['accuracy']\n",
    "             )\n",
    "\n",
    "#model.summary()\n",
    "\n",
    "res = model.fit(train_X, train_Y, epochs=10, validation_split=0.1)"
   ]
  },
  {
   "cell_type": "code",
   "execution_count": null,
   "metadata": {
    "colab": {
     "base_uri": "https://localhost:8080/"
    },
    "id": "mrgwzlewBa1V",
    "outputId": "1f19df56-8f74-4d39-848d-23353e7423ad"
   },
   "outputs": [
    {
     "data": {
      "text/plain": [
       "Index(['index', 'recipe_id', '(    oz.) tomato sauce',\n",
       "       '(14.5 oz.) diced tomatoes', '1% low-fat buttermilk',\n",
       "       '1% low-fat cottage cheese', '1% low-fat milk',\n",
       "       '2% low-fat cottage cheese', '2% lowfat greek yogurt',\n",
       "       '2% reduced-fat milk',\n",
       "       ...\n",
       "       'yucca root', 'yukon gold', 'yukon gold potatoes', 'yuzu', 'za'atar',\n",
       "       'zest', 'zesty italian dressing', 'zinfandel', 'ziti', 'zucchini'],\n",
       "      dtype='object', length=4294)"
      ]
     },
     "execution_count": 12,
     "metadata": {},
     "output_type": "execute_result"
    }
   ],
   "source": [
    "test_data = test_data.reset_index()\n",
    "test_data = test_data.fillna(0)\n",
    "test_data.columns"
   ]
  },
  {
   "cell_type": "code",
   "execution_count": null,
   "metadata": {
    "colab": {
     "base_uri": "https://localhost:8080/"
    },
    "id": "wzmPO9RRtVfd",
    "outputId": "ac1842f6-5e27-47aa-c18a-119f5d71c764"
   },
   "outputs": [
    {
     "data": {
      "text/plain": [
       "Index(['index', 'recipe_id', 'cuisine', '(    oz.) tomato sauce',\n",
       "       '(14.5 oz.) diced tomatoes', '1% low-fat buttermilk',\n",
       "       '1% low-fat cottage cheese', '1% low-fat milk',\n",
       "       '2% low-fat cottage cheese', '2% lowfat greek yogurt',\n",
       "       ...\n",
       "       'yucca root', 'yukon gold', 'yukon gold potatoes', 'yuzu', 'za'atar',\n",
       "       'zest', 'zesty italian dressing', 'zinfandel', 'ziti', 'zucchini'],\n",
       "      dtype='object', length=4295)"
      ]
     },
     "execution_count": 13,
     "metadata": {},
     "output_type": "execute_result"
    }
   ],
   "source": [
    "train_data.columns"
   ]
  },
  {
   "cell_type": "code",
   "execution_count": null,
   "metadata": {
    "colab": {
     "base_uri": "https://localhost:8080/"
    },
    "id": "zIGEBle4Bcnh",
    "outputId": "68832a5d-5d92-47c3-aa8e-e79eb5a84333"
   },
   "outputs": [
    {
     "data": {
      "text/plain": [
       "(44010, 4292)"
      ]
     },
     "execution_count": 17,
     "metadata": {},
     "output_type": "execute_result"
    }
   ],
   "source": [
    "test_X = test_data.drop(['index','recipe_id'], axis=1).values\n",
    "test_X.shape\n"
   ]
  },
  {
   "cell_type": "code",
   "execution_count": null,
   "metadata": {
    "id": "V1fLneEJBmyF"
   },
   "outputs": [],
   "source": [
    "prediction = np.argmax(model.predict(test_X), axis=1)"
   ]
  },
  {
   "cell_type": "code",
   "execution_count": null,
   "metadata": {
    "id": "XjYdfAHkBpkI"
   },
   "outputs": [],
   "source": [
    "prediction = prediction.reshape(44010,1)"
   ]
  },
  {
   "cell_type": "code",
   "execution_count": null,
   "metadata": {
    "id": "qHCdODpGB0ym"
   },
   "outputs": [],
   "source": [
    "res_set = pd.DataFrame.from_records(prediction)\n",
    "res_set.insert(0,'recipe_id',test_data['recipe_id'])\n",
    "res_set.columns = ['recipe_id','cuisine']\n",
    "\n",
    "\n",
    "res_set['cuisine'] = res_set['cuisine'].map(\n",
    "    { \n",
    "        0:'greek', \n",
    "        1:'southern_us', \n",
    "        2:'filipino', \n",
    "        3:'indian', \n",
    "        4:'jamaican',\n",
    "        5:'spanish', \n",
    "        6:'italian', \n",
    "        7:'mexican', \n",
    "        8:'chinese', \n",
    "        9:'british', \n",
    "        10:'thai',\n",
    "        11:'vietnamese', \n",
    "        12:'cajun_creole', \n",
    "        13:'brazilian', \n",
    "        14:'french', \n",
    "        15:'japanese',\n",
    "        16:'irish', \n",
    "        17:'korean', \n",
    "        18:'moroccan', \n",
    "        19:'russian'\n",
    "    }\n",
    ")\n",
    "\n",
    "\n",
    "\n",
    "#res_set\n",
    "res_set.to_csv('submission.csv', index=False)"
   ]
  },
  {
   "cell_type": "code",
   "execution_count": null,
   "metadata": {
    "colab": {
     "base_uri": "https://localhost:8080/",
     "height": 424
    },
    "id": "CLIzoXjRvFqu",
    "outputId": "196279ca-f0c6-4ce3-9185-eb90850a0cd8"
   },
   "outputs": [
    {
     "data": {
      "text/html": [
       "\n",
       "  <div id=\"df-e6b3451a-d0ed-459d-af76-1d07512e70ad\">\n",
       "    <div class=\"colab-df-container\">\n",
       "      <div>\n",
       "<style scoped>\n",
       "    .dataframe tbody tr th:only-of-type {\n",
       "        vertical-align: middle;\n",
       "    }\n",
       "\n",
       "    .dataframe tbody tr th {\n",
       "        vertical-align: top;\n",
       "    }\n",
       "\n",
       "    .dataframe thead th {\n",
       "        text-align: right;\n",
       "    }\n",
       "</style>\n",
       "<table border=\"1\" class=\"dataframe\">\n",
       "  <thead>\n",
       "    <tr style=\"text-align: right;\">\n",
       "      <th></th>\n",
       "      <th>recipe_id</th>\n",
       "      <th>cuisine</th>\n",
       "    </tr>\n",
       "  </thead>\n",
       "  <tbody>\n",
       "    <tr>\n",
       "      <th>0</th>\n",
       "      <td>6663</td>\n",
       "      <td>french</td>\n",
       "    </tr>\n",
       "    <tr>\n",
       "      <th>1</th>\n",
       "      <td>6664</td>\n",
       "      <td>indian</td>\n",
       "    </tr>\n",
       "    <tr>\n",
       "      <th>2</th>\n",
       "      <td>6665</td>\n",
       "      <td>filipino</td>\n",
       "    </tr>\n",
       "    <tr>\n",
       "      <th>3</th>\n",
       "      <td>6666</td>\n",
       "      <td>southern_us</td>\n",
       "    </tr>\n",
       "    <tr>\n",
       "      <th>4</th>\n",
       "      <td>6667</td>\n",
       "      <td>italian</td>\n",
       "    </tr>\n",
       "    <tr>\n",
       "      <th>...</th>\n",
       "      <td>...</td>\n",
       "      <td>...</td>\n",
       "    </tr>\n",
       "    <tr>\n",
       "      <th>44005</th>\n",
       "      <td>262646</td>\n",
       "      <td>italian</td>\n",
       "    </tr>\n",
       "    <tr>\n",
       "      <th>44006</th>\n",
       "      <td>262797</td>\n",
       "      <td>japanese</td>\n",
       "    </tr>\n",
       "    <tr>\n",
       "      <th>44007</th>\n",
       "      <td>262815</td>\n",
       "      <td>italian</td>\n",
       "    </tr>\n",
       "    <tr>\n",
       "      <th>44008</th>\n",
       "      <td>262850</td>\n",
       "      <td>italian</td>\n",
       "    </tr>\n",
       "    <tr>\n",
       "      <th>44009</th>\n",
       "      <td>111111111</td>\n",
       "      <td>italian</td>\n",
       "    </tr>\n",
       "  </tbody>\n",
       "</table>\n",
       "<p>44010 rows × 2 columns</p>\n",
       "</div>\n",
       "      <button class=\"colab-df-convert\" onclick=\"convertToInteractive('df-e6b3451a-d0ed-459d-af76-1d07512e70ad')\"\n",
       "              title=\"Convert this dataframe to an interactive table.\"\n",
       "              style=\"display:none;\">\n",
       "        \n",
       "  <svg xmlns=\"http://www.w3.org/2000/svg\" height=\"24px\"viewBox=\"0 0 24 24\"\n",
       "       width=\"24px\">\n",
       "    <path d=\"M0 0h24v24H0V0z\" fill=\"none\"/>\n",
       "    <path d=\"M18.56 5.44l.94 2.06.94-2.06 2.06-.94-2.06-.94-.94-2.06-.94 2.06-2.06.94zm-11 1L8.5 8.5l.94-2.06 2.06-.94-2.06-.94L8.5 2.5l-.94 2.06-2.06.94zm10 10l.94 2.06.94-2.06 2.06-.94-2.06-.94-.94-2.06-.94 2.06-2.06.94z\"/><path d=\"M17.41 7.96l-1.37-1.37c-.4-.4-.92-.59-1.43-.59-.52 0-1.04.2-1.43.59L10.3 9.45l-7.72 7.72c-.78.78-.78 2.05 0 2.83L4 21.41c.39.39.9.59 1.41.59.51 0 1.02-.2 1.41-.59l7.78-7.78 2.81-2.81c.8-.78.8-2.07 0-2.86zM5.41 20L4 18.59l7.72-7.72 1.47 1.35L5.41 20z\"/>\n",
       "  </svg>\n",
       "      </button>\n",
       "      \n",
       "  <style>\n",
       "    .colab-df-container {\n",
       "      display:flex;\n",
       "      flex-wrap:wrap;\n",
       "      gap: 12px;\n",
       "    }\n",
       "\n",
       "    .colab-df-convert {\n",
       "      background-color: #E8F0FE;\n",
       "      border: none;\n",
       "      border-radius: 50%;\n",
       "      cursor: pointer;\n",
       "      display: none;\n",
       "      fill: #1967D2;\n",
       "      height: 32px;\n",
       "      padding: 0 0 0 0;\n",
       "      width: 32px;\n",
       "    }\n",
       "\n",
       "    .colab-df-convert:hover {\n",
       "      background-color: #E2EBFA;\n",
       "      box-shadow: 0px 1px 2px rgba(60, 64, 67, 0.3), 0px 1px 3px 1px rgba(60, 64, 67, 0.15);\n",
       "      fill: #174EA6;\n",
       "    }\n",
       "\n",
       "    [theme=dark] .colab-df-convert {\n",
       "      background-color: #3B4455;\n",
       "      fill: #D2E3FC;\n",
       "    }\n",
       "\n",
       "    [theme=dark] .colab-df-convert:hover {\n",
       "      background-color: #434B5C;\n",
       "      box-shadow: 0px 1px 3px 1px rgba(0, 0, 0, 0.15);\n",
       "      filter: drop-shadow(0px 1px 2px rgba(0, 0, 0, 0.3));\n",
       "      fill: #FFFFFF;\n",
       "    }\n",
       "  </style>\n",
       "\n",
       "      <script>\n",
       "        const buttonEl =\n",
       "          document.querySelector('#df-e6b3451a-d0ed-459d-af76-1d07512e70ad button.colab-df-convert');\n",
       "        buttonEl.style.display =\n",
       "          google.colab.kernel.accessAllowed ? 'block' : 'none';\n",
       "\n",
       "        async function convertToInteractive(key) {\n",
       "          const element = document.querySelector('#df-e6b3451a-d0ed-459d-af76-1d07512e70ad');\n",
       "          const dataTable =\n",
       "            await google.colab.kernel.invokeFunction('convertToInteractive',\n",
       "                                                     [key], {});\n",
       "          if (!dataTable) return;\n",
       "\n",
       "          const docLinkHtml = 'Like what you see? Visit the ' +\n",
       "            '<a target=\"_blank\" href=https://colab.research.google.com/notebooks/data_table.ipynb>data table notebook</a>'\n",
       "            + ' to learn more about interactive tables.';\n",
       "          element.innerHTML = '';\n",
       "          dataTable['output_type'] = 'display_data';\n",
       "          await google.colab.output.renderOutput(dataTable, element);\n",
       "          const docLink = document.createElement('div');\n",
       "          docLink.innerHTML = docLinkHtml;\n",
       "          element.appendChild(docLink);\n",
       "        }\n",
       "      </script>\n",
       "    </div>\n",
       "  </div>\n",
       "  "
      ],
      "text/plain": [
       "       recipe_id      cuisine\n",
       "0           6663       french\n",
       "1           6664       indian\n",
       "2           6665     filipino\n",
       "3           6666  southern_us\n",
       "4           6667      italian\n",
       "...          ...          ...\n",
       "44005     262646      italian\n",
       "44006     262797     japanese\n",
       "44007     262815      italian\n",
       "44008     262850      italian\n",
       "44009  111111111      italian\n",
       "\n",
       "[44010 rows x 2 columns]"
      ]
     },
     "execution_count": 21,
     "metadata": {},
     "output_type": "execute_result"
    }
   ],
   "source": [
    "res_set"
   ]
  },
  {
   "cell_type": "code",
   "execution_count": null,
   "metadata": {
    "id": "xFseodmSvUgf"
   },
   "outputs": [],
   "source": []
  }
 ],
 "metadata": {
  "accelerator": "GPU",
  "colab": {
   "name": "Cuisine_prediction.ipynb",
   "provenance": []
  },
  "kernelspec": {
   "display_name": "conda_tensorflow_p36",
   "language": "python",
   "name": "conda_tensorflow_p36"
  },
  "language_info": {
   "codemirror_mode": {
    "name": "ipython",
    "version": 3
   },
   "file_extension": ".py",
   "mimetype": "text/x-python",
   "name": "python",
   "nbconvert_exporter": "python",
   "pygments_lexer": "ipython3",
   "version": "3.6.13"
  }
 },
 "nbformat": 4,
 "nbformat_minor": 1
}
